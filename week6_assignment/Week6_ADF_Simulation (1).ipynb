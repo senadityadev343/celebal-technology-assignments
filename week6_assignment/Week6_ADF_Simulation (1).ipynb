{
  "cells": [
    {
      "cell_type": "markdown",
      "metadata": {
        "id": "VuPgZWHo3xIw"
      },
      "source": [
        "# ✅ Week 6 ADF Assignment Simulation in Colab\n",
        "\n",
        "This notebook simulates the full Week 6 ADF assignment using SQLite databases, pandas, and retry logic. It covers:\n",
        "- On-prem → cloud transfer\n",
        "- Full and Incremental loads\n",
        "- Watermarking\n",
        "- FTP download simulation\n",
        "- Retry logic\n",
        "- Simulated scheduling (daily/monthly)"
      ],
      "id": "VuPgZWHo3xIw"
    },
    {
      "cell_type": "code",
      "execution_count": 1,
      "metadata": {
        "colab": {
          "base_uri": "https://localhost:8080/"
        },
        "id": "iYsZLnmR3xI5",
        "outputId": "a5dd2276-4501-434a-c4d3-136c5c526532"
      },
      "outputs": [
        {
          "output_type": "stream",
          "name": "stdout",
          "text": [
            "Requirement already satisfied: pandas in /usr/local/lib/python3.11/dist-packages (2.2.2)\n",
            "Requirement already satisfied: sqlalchemy in /usr/local/lib/python3.11/dist-packages (2.0.41)\n",
            "Collecting apscheduler\n",
            "  Downloading APScheduler-3.11.0-py3-none-any.whl.metadata (6.4 kB)\n",
            "Collecting paramiko\n",
            "  Downloading paramiko-3.5.1-py3-none-any.whl.metadata (4.6 kB)\n",
            "Requirement already satisfied: numpy>=1.23.2 in /usr/local/lib/python3.11/dist-packages (from pandas) (2.0.2)\n",
            "Requirement already satisfied: python-dateutil>=2.8.2 in /usr/local/lib/python3.11/dist-packages (from pandas) (2.9.0.post0)\n",
            "Requirement already satisfied: pytz>=2020.1 in /usr/local/lib/python3.11/dist-packages (from pandas) (2025.2)\n",
            "Requirement already satisfied: tzdata>=2022.7 in /usr/local/lib/python3.11/dist-packages (from pandas) (2025.2)\n",
            "Requirement already satisfied: greenlet>=1 in /usr/local/lib/python3.11/dist-packages (from sqlalchemy) (3.2.3)\n",
            "Requirement already satisfied: typing-extensions>=4.6.0 in /usr/local/lib/python3.11/dist-packages (from sqlalchemy) (4.14.1)\n",
            "Requirement already satisfied: tzlocal>=3.0 in /usr/local/lib/python3.11/dist-packages (from apscheduler) (5.3.1)\n",
            "Collecting bcrypt>=3.2 (from paramiko)\n",
            "  Downloading bcrypt-4.3.0-cp39-abi3-manylinux_2_34_x86_64.whl.metadata (10 kB)\n",
            "Requirement already satisfied: cryptography>=3.3 in /usr/local/lib/python3.11/dist-packages (from paramiko) (43.0.3)\n",
            "Collecting pynacl>=1.5 (from paramiko)\n",
            "  Downloading PyNaCl-1.5.0-cp36-abi3-manylinux_2_17_x86_64.manylinux2014_x86_64.manylinux_2_24_x86_64.whl.metadata (8.6 kB)\n",
            "Requirement already satisfied: cffi>=1.12 in /usr/local/lib/python3.11/dist-packages (from cryptography>=3.3->paramiko) (1.17.1)\n",
            "Requirement already satisfied: six>=1.5 in /usr/local/lib/python3.11/dist-packages (from python-dateutil>=2.8.2->pandas) (1.17.0)\n",
            "Requirement already satisfied: pycparser in /usr/local/lib/python3.11/dist-packages (from cffi>=1.12->cryptography>=3.3->paramiko) (2.22)\n",
            "Downloading APScheduler-3.11.0-py3-none-any.whl (64 kB)\n",
            "\u001b[2K   \u001b[90m━━━━━━━━━━━━━━━━━━━━━━━━━━━━━━━━━━━━━━━━\u001b[0m \u001b[32m64.0/64.0 kB\u001b[0m \u001b[31m3.3 MB/s\u001b[0m eta \u001b[36m0:00:00\u001b[0m\n",
            "\u001b[?25hDownloading paramiko-3.5.1-py3-none-any.whl (227 kB)\n",
            "\u001b[2K   \u001b[90m━━━━━━━━━━━━━━━━━━━━━━━━━━━━━━━━━━━━━━━━\u001b[0m \u001b[32m227.3/227.3 kB\u001b[0m \u001b[31m9.7 MB/s\u001b[0m eta \u001b[36m0:00:00\u001b[0m\n",
            "\u001b[?25hDownloading bcrypt-4.3.0-cp39-abi3-manylinux_2_34_x86_64.whl (284 kB)\n",
            "\u001b[2K   \u001b[90m━━━━━━━━━━━━━━━━━━━━━━━━━━━━━━━━━━━━━━━━\u001b[0m \u001b[32m284.2/284.2 kB\u001b[0m \u001b[31m20.0 MB/s\u001b[0m eta \u001b[36m0:00:00\u001b[0m\n",
            "\u001b[?25hDownloading PyNaCl-1.5.0-cp36-abi3-manylinux_2_17_x86_64.manylinux2014_x86_64.manylinux_2_24_x86_64.whl (856 kB)\n",
            "\u001b[2K   \u001b[90m━━━━━━━━━━━━━━━━━━━━━━━━━━━━━━━━━━━━━━━━\u001b[0m \u001b[32m856.7/856.7 kB\u001b[0m \u001b[31m36.0 MB/s\u001b[0m eta \u001b[36m0:00:00\u001b[0m\n",
            "\u001b[?25hInstalling collected packages: bcrypt, apscheduler, pynacl, paramiko\n",
            "Successfully installed apscheduler-3.11.0 bcrypt-4.3.0 paramiko-3.5.1 pynacl-1.5.0\n"
          ]
        }
      ],
      "source": [
        "# 📦 Install Required Packages\n",
        "!pip install pandas sqlalchemy apscheduler paramiko"
      ],
      "id": "iYsZLnmR3xI5"
    },
    {
      "cell_type": "code",
      "execution_count": 2,
      "metadata": {
        "colab": {
          "base_uri": "https://localhost:8080/"
        },
        "id": "ljE8Gr2B3xI-",
        "outputId": "4614c227-377d-4ff4-893a-25c67773ef19"
      },
      "outputs": [
        {
          "output_type": "stream",
          "name": "stdout",
          "text": [
            "✅ onprem.db setup complete.\n"
          ]
        }
      ],
      "source": [
        "# 📁 Step 1: Setup onprem.db (source) with sample data\n",
        "import sqlite3\n",
        "from datetime import datetime, timedelta\n",
        "\n",
        "src_conn = sqlite3.connect('onprem.db')\n",
        "cur = src_conn.cursor()\n",
        "cur.execute('''CREATE TABLE IF NOT EXISTS source_table (\n",
        "    id INTEGER PRIMARY KEY AUTOINCREMENT,\n",
        "    data TEXT,\n",
        "    last_modified TEXT\n",
        ")''')\n",
        "\n",
        "# Insert 3 sample rows\n",
        "now = datetime.now()\n",
        "rows = [\n",
        "    ('First row', (now - timedelta(days=3)).strftime('%Y-%m-%d %H:%M:%S')),\n",
        "    ('Second row', (now - timedelta(days=1)).strftime('%Y-%m-%d %H:%M:%S')),\n",
        "    ('Third row', now.strftime('%Y-%m-%d %H:%M:%S'))\n",
        "]\n",
        "cur.executemany('INSERT INTO source_table (data, last_modified) VALUES (?, ?)', rows)\n",
        "src_conn.commit()\n",
        "src_conn.close()\n",
        "print('✅ onprem.db setup complete.')"
      ],
      "id": "ljE8Gr2B3xI-"
    },
    {
      "cell_type": "code",
      "execution_count": 3,
      "metadata": {
        "colab": {
          "base_uri": "https://localhost:8080/"
        },
        "id": "jfM4aY6F3xJA",
        "outputId": "7546d740-4afb-406f-8c28-2827e81bf43c"
      },
      "outputs": [
        {
          "output_type": "stream",
          "name": "stdout",
          "text": [
            "✅ cloud.db setup complete.\n"
          ]
        }
      ],
      "source": [
        "# ☁️ Step 2: Setup cloud.db (destination + watermark table)\n",
        "tgt_conn = sqlite3.connect('cloud.db')\n",
        "tgt_cur = tgt_conn.cursor()\n",
        "tgt_cur.execute('''CREATE TABLE IF NOT EXISTS destination_table (\n",
        "    id INTEGER PRIMARY KEY,\n",
        "    data TEXT,\n",
        "    last_modified TEXT\n",
        ")''')\n",
        "tgt_cur.execute('''CREATE TABLE IF NOT EXISTS watermark_control (\n",
        "    id INTEGER PRIMARY KEY,\n",
        "    last_modified TEXT\n",
        ")''')\n",
        "tgt_conn.commit()\n",
        "tgt_conn.close()\n",
        "print('✅ cloud.db setup complete.')"
      ],
      "id": "jfM4aY6F3xJA"
    },
    {
      "cell_type": "code",
      "execution_count": 4,
      "metadata": {
        "colab": {
          "base_uri": "https://localhost:8080/"
        },
        "id": "QAJnnUYb3xJC",
        "outputId": "c3e4ebc6-dbb0-4c8a-9427-58de45993f71"
      },
      "outputs": [
        {
          "output_type": "stream",
          "name": "stdout",
          "text": [
            "✅ Full load done: 3 rows.\n"
          ]
        }
      ],
      "source": [
        "# 🔁 Step 3: Full Load Function\n",
        "import pandas as pd\n",
        "\n",
        "def full_load():\n",
        "    src = sqlite3.connect('onprem.db')\n",
        "    tgt = sqlite3.connect('cloud.db')\n",
        "    df = pd.read_sql('SELECT * FROM source_table', src)\n",
        "    df.to_sql('destination_table', tgt, if_exists='replace', index=False)\n",
        "    src.close()\n",
        "    tgt.close()\n",
        "    print(f'✅ Full load done: {len(df)} rows.')\n",
        "\n",
        "# Run full load\n",
        "full_load()"
      ],
      "id": "QAJnnUYb3xJC"
    },
    {
      "cell_type": "code",
      "execution_count": 5,
      "metadata": {
        "colab": {
          "base_uri": "https://localhost:8080/"
        },
        "id": "0kDAGSUU3xJD",
        "outputId": "20f66d01-0e55-4cbf-f099-09ce1f1243cb"
      },
      "outputs": [
        {
          "output_type": "stream",
          "name": "stdout",
          "text": [
            "✅ Incremental load: 3 rows, watermark updated to 2025-07-13 08:21:35\n"
          ]
        }
      ],
      "source": [
        "# 🕓 Step 4: Incremental Load Function with Watermark\n",
        "def incremental_load():\n",
        "    tgt = sqlite3.connect('cloud.db')\n",
        "    cur = tgt.cursor()\n",
        "    cur.execute(\"SELECT last_modified FROM watermark_control WHERE id=1\")\n",
        "    row = cur.fetchone()\n",
        "    last_wm = row[0] if row else '1900-01-01 00:00:00'\n",
        "\n",
        "    src = sqlite3.connect('onprem.db')\n",
        "    df = pd.read_sql(f\"\"\"\n",
        "        SELECT * FROM source_table WHERE last_modified > '{last_wm}'\n",
        "    \"\"\", src)\n",
        "\n",
        "    if not df.empty:\n",
        "        df.to_sql('destination_table', tgt, if_exists='append', index=False)\n",
        "        new_wm = df['last_modified'].max()\n",
        "        cur.execute(\"REPLACE INTO watermark_control (id, last_modified) VALUES (1, ?)\", (new_wm,))\n",
        "        tgt.commit()\n",
        "        print(f'✅ Incremental load: {len(df)} rows, watermark updated to {new_wm}')\n",
        "    else:\n",
        "        print('✅ No new data found.')\n",
        "\n",
        "    src.close()\n",
        "    tgt.close()\n",
        "\n",
        "# Run incremental load\n",
        "incremental_load()"
      ],
      "id": "0kDAGSUU3xJD"
    },
    {
      "cell_type": "code",
      "execution_count": 6,
      "metadata": {
        "colab": {
          "base_uri": "https://localhost:8080/"
        },
        "id": "jHeVZqA73xJE",
        "outputId": "1397df09-c8d4-401e-c768-178eda6bc1c7"
      },
      "outputs": [
        {
          "output_type": "stream",
          "name": "stdout",
          "text": [
            "✅ No new data found.\n"
          ]
        }
      ],
      "source": [
        "# 🔁 Retry Logic Example\n",
        "import time\n",
        "\n",
        "def retry(func, retries=3, delay=3):\n",
        "    for i in range(retries):\n",
        "        try:\n",
        "            return func()\n",
        "        except Exception as e:\n",
        "            print(f'⚠️ Retry {i+1}/{retries} failed: {e}')\n",
        "            time.sleep(delay)\n",
        "    print('❌ All retries failed.')\n",
        "\n",
        "# Example with retry wrapper\n",
        "retry(incremental_load)"
      ],
      "id": "jHeVZqA73xJE"
    }
  ],
  "metadata": {
    "kernelspec": {
      "display_name": "Python 3",
      "language": "python",
      "name": "python3"
    },
    "language_info": {
      "name": "python",
      "version": "3.x"
    },
    "colab": {
      "provenance": []
    }
  },
  "nbformat": 4,
  "nbformat_minor": 5
}